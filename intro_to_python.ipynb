{
 "cells": [
  {
   "cell_type": "markdown",
   "metadata": {
    "id": "Iv8Q-sMolxyK"
   },
   "source": [
    "This is an introduction to programming language Python\n"
   ]
  },
  {
   "cell_type": "code",
   "execution_count": null,
   "metadata": {
    "colab": {
     "base_uri": "https://localhost:8080/"
    },
    "id": "RXRHKE-zl8ds",
    "outputId": "b4d4d756-18fd-48ac-da0f-7e5676f3d9cf"
   },
   "outputs": [
    {
     "name": "stdout",
     "output_type": "stream",
     "text": [
      "Hello world\n"
     ]
    }
   ],
   "source": [
    "# In this notebook you will run each cell by pressing to the play button next to each cell. Press the button on the left. As an output Hello world will be written\n",
    "print(\"Hello world\")"
   ]
  },
  {
   "cell_type": "code",
   "execution_count": null,
   "metadata": {
    "colab": {
     "base_uri": "https://localhost:8080/"
    },
    "id": "EnsuNvK-mf79",
    "outputId": "9468717c-5b82-4eb4-c152-876373fc0a7f"
   },
   "outputs": [
    {
     "name": "stdout",
     "output_type": "stream",
     "text": [
      "Hello world\n",
      "Hello world\n"
     ]
    }
   ],
   "source": [
    "# The symbol # lets you comment out a line of code. If you comment the a line, that line will not run. In example below we will see two Hello world outputs since one of them is commented\n",
    "print(\"Hello world\")\n",
    "#print(\"Hello world\")\n",
    "print(\"Hello world\")"
   ]
  },
  {
   "cell_type": "code",
   "execution_count": null,
   "metadata": {
    "colab": {
     "base_uri": "https://localhost:8080/"
    },
    "id": "dQn-t2CknTQ5",
    "outputId": "2ce95910-490e-4aaa-8a75-b95d1aa87635"
   },
   "outputs": [
    {
     "name": "stdout",
     "output_type": "stream",
     "text": [
      "4\n",
      "1\n",
      "6\n",
      "3.0\n"
     ]
    }
   ],
   "source": [
    "# There is a tool we can use in programming called functions. They are like functions in math they take an input and give an output. \n",
    "#print() is a function that takes an input and prints the input to the screen\n",
    "# with python we can add,subtract,multiply and divide numbers\n",
    "print(2 + 2)\n",
    "print(3 - 2)\n",
    "print(3 * 2)\n",
    "print(6/2) "
   ]
  },
  {
   "cell_type": "markdown",
   "metadata": {
    "id": "UHI8gXa-ohqR"
   },
   "source": [
    "If we want to build a calculater the numbers we use must be changeable. For this we will use variable. As the name implies variables value can vary. "
   ]
  },
  {
   "cell_type": "code",
   "execution_count": null,
   "metadata": {
    "colab": {
     "base_uri": "https://localhost:8080/"
    },
    "id": "GBAHfGE-ofE7",
    "outputId": "d8cd5075-2ebe-41b8-d881-4745cc6c31ff"
   },
   "outputs": [
    {
     "name": "stdout",
     "output_type": "stream",
     "text": [
      "5\n",
      "100\n"
     ]
    }
   ],
   "source": [
    "x = 2 # this is a variable\n",
    "y = 3 # this is another variable\n",
    "you_can_a_variable_any_way_you_want = 100 # as long as there is no space between characters you can give any name you want to a variable\n",
    "print(x + y)\n",
    "print(you_can_a_variable_any_way_you_want)"
   ]
  },
  {
   "cell_type": "code",
   "execution_count": 1,
   "metadata": {
    "colab": {
     "base_uri": "https://localhost:8080/"
    },
    "id": "cXQcC0pru3TN",
    "outputId": "72e9fa6b-6e41-4240-a5f4-721bb8da0d6f"
   },
   "outputs": [
    {
     "name": "stdout",
     "output_type": "stream",
     "text": [
      "2\n",
      "4\n",
      "12\n",
      "22\n"
     ]
    }
   ],
   "source": [
    "x = 2 # we assing variable x as 2\n",
    "print(x)\n",
    "y = x + 2 # we assing y as 2 more than x\n",
    "print(y)\n",
    "x = x + 10 # mathematically this expression is absurd but it is meaningful in programming. We assing x as 10 more than its previous value. So value of x increases\n",
    "print(x)\n",
    "x += 10 # alternatively we can use += to increase a variable\n",
    "print(x)"
   ]
  },
  {
   "cell_type": "markdown",
   "metadata": {
    "id": "j9kKC14FpzFu"
   },
   "source": [
    "Not all the numbers we use have to be integers they can also be floating point"
   ]
  },
  {
   "cell_type": "code",
   "execution_count": null,
   "metadata": {
    "colab": {
     "base_uri": "https://localhost:8080/"
    },
    "id": "3WQHpMSgpW8Z",
    "outputId": "6a94601d-a8f8-48bc-878c-d86b124be0b2"
   },
   "outputs": [
    {
     "name": "stdout",
     "output_type": "stream",
     "text": [
      "5.6\n"
     ]
    }
   ],
   "source": [
    "print(3.2 + 2.4)"
   ]
  },
  {
   "cell_type": "markdown",
   "metadata": {
    "id": "ZYjaWA7GqSPc"
   },
   "source": [
    "Every variable has a type. with type() function we can check a variables type."
   ]
  },
  {
   "cell_type": "code",
   "execution_count": null,
   "metadata": {
    "colab": {
     "base_uri": "https://localhost:8080/"
    },
    "id": "OBnmcbW4qRpd",
    "outputId": "518aa444-e3b2-4e61-d5f8-2c2a175a78c2"
   },
   "outputs": [
    {
     "name": "stdout",
     "output_type": "stream",
     "text": [
      "<class 'float'>\n",
      "<class 'int'>\n",
      "<class 'float'>\n"
     ]
    }
   ],
   "source": [
    "x = 3.2\n",
    "y = 3\n",
    "z = 3.0\n",
    "print(type(x)) # yes there can call a function in another function\n",
    "print(type(y))\n",
    "print(type(z))"
   ]
  },
  {
   "cell_type": "markdown",
   "metadata": {
    "id": "m6n0q0YNqr6K"
   },
   "source": [
    "We don't have only numbers (floats and integers) as types. We also have many more. One of them is Strings. Actually you have seen strings in the first cell!!"
   ]
  },
  {
   "cell_type": "code",
   "execution_count": null,
   "metadata": {
    "colab": {
     "base_uri": "https://localhost:8080/"
    },
    "id": "beQ98t5nrKAN",
    "outputId": "1bae62d9-3518-435d-acba-6650b10ad3d5"
   },
   "outputs": [
    {
     "name": "stdout",
     "output_type": "stream",
     "text": [
      "<class 'str'>\n"
     ]
    }
   ],
   "source": [
    "x = \"Hello world\"\n",
    "print(type(x))"
   ]
  },
  {
   "cell_type": "markdown",
   "metadata": {
    "id": "YYHUWqwDrxbm"
   },
   "source": [
    "Now we will give an example to better understand why we need variables. We have learned to give output to screen. Lets learn how to get input from keyboard. We will use a new function called input(). This function lets you read a string from keyboard"
   ]
  },
  {
   "cell_type": "code",
   "execution_count": null,
   "metadata": {
    "colab": {
     "base_uri": "https://localhost:8080/"
    },
    "id": "Crw7SYcGsjly",
    "outputId": "67144335-432e-4a85-a947-f006a9f6497d"
   },
   "outputs": [
    {
     "name": "stdout",
     "output_type": "stream",
     "text": [
      "Please write some textSome text\n",
      "Some text\n"
     ]
    }
   ],
   "source": [
    "my_input = input(\"Please write some text\")\n",
    "print(my_input)"
   ]
  },
  {
   "cell_type": "markdown",
   "metadata": {
    "id": "AUZBCsihs3s_"
   },
   "source": [
    "input() function only outputs string types. So even if you input a number it will understand it as a string. Lets try it."
   ]
  },
  {
   "cell_type": "code",
   "execution_count": null,
   "metadata": {
    "colab": {
     "base_uri": "https://localhost:8080/"
    },
    "id": "bHWgCLQpt6yk",
    "outputId": "0ef94fc5-25d3-4376-ece4-7b14d91d21a7"
   },
   "outputs": [
    {
     "name": "stdout",
     "output_type": "stream",
     "text": [
      "Please enter a number2\n",
      "2\n",
      "<class 'str'>\n"
     ]
    }
   ],
   "source": [
    "x = input(\"Please enter a number\") \n",
    "print(x)\n",
    "print(type(x))"
   ]
  },
  {
   "cell_type": "markdown",
   "metadata": {
    "id": "6ttJNeUruBMa"
   },
   "source": [
    "Lets write a code to take two numbers and add them. To do this we have to learn to convert an integer to string. We can convert different types to each other if its allowed. To make string '2' into integer we will use the function int()."
   ]
  },
  {
   "cell_type": "code",
   "execution_count": null,
   "metadata": {
    "colab": {
     "base_uri": "https://localhost:8080/"
    },
    "id": "5x2tarI-uZ5q",
    "outputId": "69114c88-1e6a-41b4-daf6-791de1459281"
   },
   "outputs": [
    {
     "name": "stdout",
     "output_type": "stream",
     "text": [
      "<class 'str'>\n",
      "<class 'int'>\n"
     ]
    }
   ],
   "source": [
    "x = '2'\n",
    "print(type(x))\n",
    "x = int(x)\n",
    "print(type(x))"
   ]
  },
  {
   "cell_type": "markdown",
   "metadata": {
    "id": "T4wvoFXL4RT3"
   },
   "source": [
    "Now we can read two strings and convert them to integer and add them.\n"
   ]
  },
  {
   "cell_type": "code",
   "execution_count": null,
   "metadata": {
    "colab": {
     "base_uri": "https://localhost:8080/"
    },
    "id": "FAoPVYIl4Hcs",
    "outputId": "cf01f659-c209-4937-c07b-62feb3707eee"
   },
   "outputs": [
    {
     "name": "stdout",
     "output_type": "stream",
     "text": [
      "Please enter number 1 10\n",
      "Please enter number 2 14\n",
      "24\n"
     ]
    }
   ],
   "source": [
    "number_1 = input(\"Please enter number 1 \")\n",
    "number_1 = int(number_1)\n",
    "number_2 = input(\"Please enter number 2 \")\n",
    "number_2 = int(number_2)\n",
    "print(number_1 + number_2)"
   ]
  },
  {
   "cell_type": "markdown",
   "metadata": {
    "id": "S_0aNseT4toZ"
   },
   "source": [
    "Lets say we have to store the exam grades of a class with 100 students. It is not a good idea to have 100 variables. To do this we can use a new type of variable that is called list. Lists can store integers, floats ,strings and other types. "
   ]
  },
  {
   "cell_type": "code",
   "execution_count": 2,
   "metadata": {
    "colab": {
     "base_uri": "https://localhost:8080/"
    },
    "id": "WqHspAjj4rPU",
    "outputId": "1a928253-1499-4bbb-cf94-81dfec117949"
   },
   "outputs": [
    {
     "name": "stdout",
     "output_type": "stream",
     "text": [
      "[10, 20, 40]\n",
      "<class 'list'>\n",
      "['cat', 'dog', 'bird']\n",
      "<class 'list'>\n"
     ]
    }
   ],
   "source": [
    "a_list  = [10,20,40]\n",
    "print(a_list)\n",
    "print(type(a_list))\n",
    "a_string_list = [\"cat\",\"dog\",\"bird\"]\n",
    "print(a_string_list)\n",
    "print(type(a_string_list))"
   ]
  },
  {
   "cell_type": "markdown",
   "metadata": {
    "id": "S1OeEux65ktK"
   },
   "source": [
    "Our list stores 3 values. To check the lenght of the list we can use len() function. "
   ]
  },
  {
   "cell_type": "code",
   "execution_count": 8,
   "metadata": {
    "colab": {
     "base_uri": "https://localhost:8080/"
    },
    "id": "OmGoZHNc5joa",
    "outputId": "d1280a70-735a-46de-f6e2-84722f0c07ba"
   },
   "outputs": [
    {
     "name": "stdout",
     "output_type": "stream",
     "text": [
      "3\n"
     ]
    }
   ],
   "source": [
    "print(len(a_list))"
   ]
  },
  {
   "cell_type": "markdown",
   "metadata": {
    "id": "f_QusJ0H6E5T"
   },
   "source": [
    "Lists allow to access each elemnt in the list by giving their index. However like many other programming languages indexing starts at 0. So 0th element is 10, 1st is 20 and 2nd element is 40."
   ]
  },
  {
   "cell_type": "code",
   "execution_count": 9,
   "metadata": {
    "colab": {
     "base_uri": "https://localhost:8080/"
    },
    "id": "i6s_CTta6Dzf",
    "outputId": "d9474b15-b168-4feb-f721-4f30bf955bba"
   },
   "outputs": [
    {
     "name": "stdout",
     "output_type": "stream",
     "text": [
      "10\n",
      "20\n",
      "40\n"
     ]
    }
   ],
   "source": [
    "print(a_list[0]) #0th element\n",
    "print(a_list[1]) #1st element\n",
    "print(a_list[2]) #2nd element"
   ]
  },
  {
   "cell_type": "markdown",
   "metadata": {
    "id": "g3f-XiA36wy8"
   },
   "source": [
    "Since our list has 3 elements and indexing starts from 0 trying to access indexes such as 3,4,5... will cause error. Lets get our first error. The error is and list index out of range error. This means that index does not exist in our list."
   ]
  },
  {
   "cell_type": "code",
   "execution_count": 10,
   "metadata": {
    "colab": {
     "base_uri": "https://localhost:8080/",
     "height": 167
    },
    "id": "PEAIU8jL7Cdb",
    "outputId": "3445b55a-b57b-438b-c419-444291d1b37e"
   },
   "outputs": [
    {
     "ename": "IndexError",
     "evalue": "ignored",
     "output_type": "error",
     "traceback": [
      "\u001b[0;31m---------------------------------------------------------------------------\u001b[0m",
      "\u001b[0;31mIndexError\u001b[0m                                Traceback (most recent call last)",
      "\u001b[0;32m<ipython-input-10-6fbcd939de38>\u001b[0m in \u001b[0;36m<module>\u001b[0;34m()\u001b[0m\n\u001b[0;32m----> 1\u001b[0;31m \u001b[0mprint\u001b[0m\u001b[0;34m(\u001b[0m\u001b[0ma_list\u001b[0m\u001b[0;34m[\u001b[0m\u001b[0;36m3\u001b[0m\u001b[0;34m]\u001b[0m\u001b[0;34m)\u001b[0m\u001b[0;34m\u001b[0m\u001b[0;34m\u001b[0m\u001b[0m\n\u001b[0m",
      "\u001b[0;31mIndexError\u001b[0m: list index out of range"
     ]
    }
   ],
   "source": [
    "print(a_list[3])"
   ]
  },
  {
   "cell_type": "code",
   "execution_count": 11,
   "metadata": {
    "colab": {
     "base_uri": "https://localhost:8080/",
     "height": 167
    },
    "id": "laskI6qL7H7r",
    "outputId": "3a1d166d-4242-4100-ea74-ab24b83ed993"
   },
   "outputs": [
    {
     "ename": "IndexError",
     "evalue": "ignored",
     "output_type": "error",
     "traceback": [
      "\u001b[0;31m---------------------------------------------------------------------------\u001b[0m",
      "\u001b[0;31mIndexError\u001b[0m                                Traceback (most recent call last)",
      "\u001b[0;32m<ipython-input-11-29017fbcc90a>\u001b[0m in \u001b[0;36m<module>\u001b[0;34m()\u001b[0m\n\u001b[0;32m----> 1\u001b[0;31m \u001b[0mprint\u001b[0m\u001b[0;34m(\u001b[0m\u001b[0ma_list\u001b[0m\u001b[0;34m[\u001b[0m\u001b[0;36m100\u001b[0m\u001b[0;34m]\u001b[0m\u001b[0;34m)\u001b[0m\u001b[0;34m\u001b[0m\u001b[0;34m\u001b[0m\u001b[0m\n\u001b[0m",
      "\u001b[0;31mIndexError\u001b[0m: list index out of range"
     ]
    }
   ],
   "source": [
    "print(a_list[100])"
   ]
  },
  {
   "cell_type": "markdown",
   "metadata": {
    "id": "57iexXLO6k17"
   },
   "source": [
    "We can also change the elements in lists  just like variables."
   ]
  },
  {
   "cell_type": "code",
   "execution_count": 12,
   "metadata": {
    "colab": {
     "base_uri": "https://localhost:8080/"
    },
    "id": "VztUmnRx6j8j",
    "outputId": "e82447c7-27c3-4453-c514-8bfad8931246"
   },
   "outputs": [
    {
     "name": "stdout",
     "output_type": "stream",
     "text": [
      "[100, 20, 40]\n"
     ]
    }
   ],
   "source": [
    "a_list[0] = 100\n",
    "print(a_list)"
   ]
  },
  {
   "cell_type": "markdown",
   "metadata": {
    "id": "uCJL8bA17Zxi"
   },
   "source": [
    "Now what if want to add another element to our list? Luckilly it can easily be done with lists."
   ]
  },
  {
   "cell_type": "code",
   "execution_count": 13,
   "metadata": {
    "colab": {
     "base_uri": "https://localhost:8080/"
    },
    "id": "KTxDBkyL7t6Z",
    "outputId": "2e205109-d40e-45d2-d774-93d872ab9a5c"
   },
   "outputs": [
    {
     "name": "stdout",
     "output_type": "stream",
     "text": [
      "[100, 20, 40, 100, 400]\n",
      "5\n"
     ]
    }
   ],
   "source": [
    "a_list.append(100) #append is a method of lists. Methods are just like function but they are tied to a variable.\n",
    "a_list.append(400) #append adds the element to the end of the list\n",
    "print(a_list)\n",
    "#Now lets check the lenght\n",
    "print(len(a_list))"
   ]
  },
  {
   "cell_type": "markdown",
   "metadata": {
    "id": "sXib0grg8dRn"
   },
   "source": [
    "The only method lists have is not append. Lists has various other methods like sort, remove..."
   ]
  },
  {
   "cell_type": "code",
   "execution_count": 14,
   "metadata": {
    "colab": {
     "base_uri": "https://localhost:8080/"
    },
    "id": "UJoKiwpP8rcW",
    "outputId": "1978533b-34d7-4b95-e127-bf8dd4752bb4"
   },
   "outputs": [
    {
     "name": "stdout",
     "output_type": "stream",
     "text": [
      "Sorted list\n",
      "[20, 40, 100, 100, 400]\n",
      "Reverse sorted list\n",
      "[400, 100, 100, 40, 20]\n"
     ]
    }
   ],
   "source": [
    "a_list.sort() #sort the list in ascending, note that to sort the list it is enough to call the method. So you don't have to do a_list = a_list.sort()\n",
    "print(\"Sorted list\")\n",
    "print(a_list)\n",
    "a_list.sort(reverse=True) # we can also sort in reverse\n",
    "print(\"Reverse sorted list\")\n",
    "print(a_list)"
   ]
  },
  {
   "cell_type": "markdown",
   "metadata": {
    "id": "TZULCq36-Gow"
   },
   "source": [
    "Lets remove some elements"
   ]
  },
  {
   "cell_type": "code",
   "execution_count": 15,
   "metadata": {
    "colab": {
     "base_uri": "https://localhost:8080/"
    },
    "id": "yRtYI1vB9u60",
    "outputId": "8067f908-52d6-47c0-efd8-e649a8632270"
   },
   "outputs": [
    {
     "name": "stdout",
     "output_type": "stream",
     "text": [
      "[400, 100, 40, 20]\n"
     ]
    }
   ],
   "source": [
    "a_list.remove(100) #remove will onyl learn first 100 value it can find\n",
    "print(a_list)"
   ]
  },
  {
   "cell_type": "markdown",
   "metadata": {
    "id": "1E_MvddQ-1RG"
   },
   "source": [
    "What if we want to give bonus points to our class? We can't write an expression to increase the values for every index. For that we can use loops. Altough there are different types of loops we will only look at for loops"
   ]
  },
  {
   "cell_type": "code",
   "execution_count": 16,
   "metadata": {
    "colab": {
     "base_uri": "https://localhost:8080/"
    },
    "id": "LMP3lvUPMxVQ",
    "outputId": "6f7478d9-a72a-40af-e54a-de6e6d70f516"
   },
   "outputs": [
    {
     "name": "stdout",
     "output_type": "stream",
     "text": [
      "0\n",
      "1\n",
      "2\n",
      "3\n",
      "4\n"
     ]
    }
   ],
   "source": [
    "for i in range(0,5): # we create a variable i, i iterates over range, range is numbers between 0 and 5 \n",
    "  print(i) # to indicate what will be inside the loop you must put a space infront of what is in the loop (it is called indentation)"
   ]
  },
  {
   "cell_type": "markdown",
   "metadata": {
    "id": "BJseNBjeNf95"
   },
   "source": [
    "In the upper cell at the beginning i=0. i is printed to the screen as 0. Then i becomes 1. Again i is printed as 1. This continues until 4. Notice that in the range() expression the upper value we give is 5 but the last value printed is 4. The last printed expression will be upper value minus 1. (5-1=4)  Now lets check what happens if we don't pay attention to the indentation"
   ]
  },
  {
   "cell_type": "code",
   "execution_count": 17,
   "metadata": {
    "colab": {
     "base_uri": "https://localhost:8080/",
     "height": 132
    },
    "id": "XF2jDqu7OhdT",
    "outputId": "6fb29623-fea0-4a32-9f3c-9ee750b2f2ba"
   },
   "outputs": [
    {
     "ename": "IndentationError",
     "evalue": "ignored",
     "output_type": "error",
     "traceback": [
      "\u001b[0;36m  File \u001b[0;32m\"<ipython-input-17-4a6de03bf63e>\"\u001b[0;36m, line \u001b[0;32m2\u001b[0m\n\u001b[0;31m    print(i)\u001b[0m\n\u001b[0m        ^\u001b[0m\n\u001b[0;31mIndentationError\u001b[0m\u001b[0;31m:\u001b[0m expected an indented block\n"
     ]
    }
   ],
   "source": [
    "for i in range(0,5):\n",
    "print(i)"
   ]
  },
  {
   "cell_type": "markdown",
   "metadata": {
    "id": "FXWEHpyPPWlW"
   },
   "source": [
    "Lets print the values in our list"
   ]
  },
  {
   "cell_type": "code",
   "execution_count": 18,
   "metadata": {
    "colab": {
     "base_uri": "https://localhost:8080/"
    },
    "id": "hS3AQ3X7PU8I",
    "outputId": "4261e462-71cd-4dc9-d080-f8160d931e40"
   },
   "outputs": [
    {
     "name": "stdout",
     "output_type": "stream",
     "text": [
      "400\n",
      "100\n",
      "40\n",
      "20\n"
     ]
    }
   ],
   "source": [
    "for i in range(0,len(a_list)): # indexes start from 0, len() function gives the lenght of the list which is the maximum index\n",
    "  print(a_list[i])"
   ]
  },
  {
   "cell_type": "markdown",
   "metadata": {
    "id": "se8R9CadP8uR"
   },
   "source": [
    "Now lets add 10 points to all grades."
   ]
  },
  {
   "cell_type": "code",
   "execution_count": 19,
   "metadata": {
    "colab": {
     "base_uri": "https://localhost:8080/"
    },
    "id": "qeZpCTU9QLT0",
    "outputId": "b8c394e0-b590-4891-de8a-b6e5d8ab97e1"
   },
   "outputs": [
    {
     "name": "stdout",
     "output_type": "stream",
     "text": [
      "410\n",
      "110\n",
      "50\n",
      "30\n"
     ]
    }
   ],
   "source": [
    "for i in range(0,len(a_list)): # indexes start from 0, len() function gives the lenght of the list which is the maximum index\n",
    "  a_list[i]+=10\n",
    "  print(a_list[i])"
   ]
  },
  {
   "cell_type": "markdown",
   "metadata": {
    "id": "iGZu39z-QSj6"
   },
   "source": [
    "What if want to find the sum and mean value of our grades?"
   ]
  },
  {
   "cell_type": "code",
   "execution_count": 20,
   "metadata": {
    "colab": {
     "base_uri": "https://localhost:8080/"
    },
    "id": "9ZxVKUlXQcjd",
    "outputId": "3de7d763-0d42-4ebe-d44e-7353eac26ec4"
   },
   "outputs": [
    {
     "name": "stdout",
     "output_type": "stream",
     "text": [
      "Sum of grades 600.0\n",
      "Mean of grades 150.0\n"
     ]
    }
   ],
   "source": [
    "sum_value = 0. #we have to initialize sum value with 0\n",
    "\n",
    "for i in range(0,len(a_list)): \n",
    "  sum_value += a_list[i] #we will increase sum_value by every element in the list\n",
    "print(\"Sum of grades\",sum_value)\n",
    "\n",
    "mean_value = sum_value / len(a_list) # mean value is sum/number of elements\n",
    "print(\"Mean of grades\",mean_value) "
   ]
  },
  {
   "cell_type": "markdown",
   "metadata": {
    "id": "L3RbLROuReDa"
   },
   "source": [
    "What if we want to find the maximum and minimum value of our list? For this we will use logical operators. First we will see another type of variable which are booleans or bools for short"
   ]
  },
  {
   "cell_type": "code",
   "execution_count": 24,
   "metadata": {
    "colab": {
     "base_uri": "https://localhost:8080/"
    },
    "id": "WjGSlL7TR1eT",
    "outputId": "893db176-b355-43ff-8c46-9c9fdfb561aa"
   },
   "outputs": [
    {
     "name": "stdout",
     "output_type": "stream",
     "text": [
      "True\n",
      "True\n",
      "False\n"
     ]
    }
   ],
   "source": [
    "x = True # booleans can be true\n",
    "y = False # or false\n",
    "z = True \n",
    "\n",
    "print(x is x) #by writing is expression we can check if two variables are equal\n",
    "print(x is z) \n",
    "print(x is y)"
   ]
  },
  {
   "cell_type": "code",
   "execution_count": 25,
   "metadata": {
    "colab": {
     "base_uri": "https://localhost:8080/"
    },
    "id": "0xLzt-zdTHsV",
    "outputId": "fa3902ad-71ad-4f6b-e81d-a635e83e88dd"
   },
   "outputs": [
    {
     "name": "stdout",
     "output_type": "stream",
     "text": [
      "False\n",
      "True\n",
      "True\n"
     ]
    }
   ],
   "source": [
    "print(2 is 3) # we can also check if other types of variables are equal\n",
    "print(3 is 3)\n",
    "print(\"cat\" is \"cat\")"
   ]
  },
  {
   "cell_type": "markdown",
   "metadata": {
    "id": "DrQlpnVxTvfd"
   },
   "source": [
    "Now lets look at if and else"
   ]
  },
  {
   "cell_type": "code",
   "execution_count": 26,
   "metadata": {
    "colab": {
     "base_uri": "https://localhost:8080/"
    },
    "id": "Gq2ECxZ6TcyD",
    "outputId": "83eead20-5c61-42fa-ff1c-d40766a3435c"
   },
   "outputs": [
    {
     "name": "stdout",
     "output_type": "stream",
     "text": [
      "1 is equal to 1\n"
     ]
    }
   ],
   "source": [
    "if 1 is 1:\n",
    "  print(\"1 is equal to 1\")\n",
    "if 1 is 2:\n",
    "  print(\"1 is not equal to 2\")"
   ]
  },
  {
   "cell_type": "markdown",
   "metadata": {
    "id": "M2UNtQMhT1MV"
   },
   "source": [
    "In the example below if checks if 1 is equal to 1. Since 1 is equal to 1 we get and output. In the second if expression since 1 is not equal to 2 it doesn't give an output. To give an output in that situation we change the expression to check if 1 is not 2."
   ]
  },
  {
   "cell_type": "code",
   "execution_count": 27,
   "metadata": {
    "colab": {
     "base_uri": "https://localhost:8080/"
    },
    "id": "tvLQzu_7UKRv",
    "outputId": "b75ec5b9-0baa-49a1-e0c8-257505bcf6eb"
   },
   "outputs": [
    {
     "name": "stdout",
     "output_type": "stream",
     "text": [
      "1 is equal to 1\n",
      "1 is not equal to 2\n"
     ]
    }
   ],
   "source": [
    "if 1 is 1:\n",
    "  print(\"1 is equal to 1\")\n",
    "if 1 is not 2:\n",
    "  print(\"1 is not equal to 2\")"
   ]
  },
  {
   "cell_type": "markdown",
   "metadata": {
    "id": "HVrlF1TyWHCd"
   },
   "source": [
    "We can also check if a number is bigger than or smaller than another number"
   ]
  },
  {
   "cell_type": "code",
   "execution_count": 29,
   "metadata": {
    "colab": {
     "base_uri": "https://localhost:8080/"
    },
    "id": "17hzhlNDWSYi",
    "outputId": "3798d6e3-2bbc-4e82-b4af-478c7a41b70a"
   },
   "outputs": [
    {
     "name": "stdout",
     "output_type": "stream",
     "text": [
      "10 is bigger than 1\n",
      "1 is smaller than 2\n",
      "1 is bigger or equal to 1\n",
      "1 is bigger or equal to 1\n",
      "1 is to 1\n"
     ]
    }
   ],
   "source": [
    "if 10 > 1:\n",
    "  print(\"10 is bigger than 1\")\n",
    "if 1 < 2:\n",
    "  print(\"1 is smaller than 2\")\n",
    "if 1 >= 1:\n",
    "  print(\"1 is bigger or equal to 1\")\n",
    "if 1 <= 1:\n",
    "  print(\"1 is bigger or equal to 1\")\n",
    "if 1 == 1: # alternatively to is we can use == (equal)\n",
    "  print(\"1 is to 1\")"
   ]
  },
  {
   "cell_type": "markdown",
   "metadata": {
    "id": "An1rPN3DUdHg"
   },
   "source": [
    "Now lets return to our maximum minimum example. Now with using if we can find the miminmum and maximum value of our list."
   ]
  },
  {
   "cell_type": "code",
   "execution_count": 30,
   "metadata": {
    "colab": {
     "base_uri": "https://localhost:8080/"
    },
    "id": "7oLHmoxcVZzY",
    "outputId": "14912563-6226-43b7-cfb9-9a365688a83d"
   },
   "outputs": [
    {
     "name": "stdout",
     "output_type": "stream",
     "text": [
      "[410, 110, 50, 30]\n",
      "Min value 30\n"
     ]
    }
   ],
   "source": [
    "min_val = 1000 # initiliaze min value with a high number. If we give min val a value that is smaller than the mininimum of the list our algorithm will not work\n",
    "\n",
    "print(a_list) #look at the list\n",
    "\n",
    "for i in range(0,len(a_list)): \n",
    "  if min_val > a_list[i]: # if our min_val is bigger than current value that means we found a smaller value\n",
    "    min_val = a_list[i] #since we found a smaller value than min_val we update our min_val value\n",
    "\n",
    "print(\"Min value\",min_val)"
   ]
  },
  {
   "cell_type": "markdown",
   "metadata": {
    "id": "vUK3OTHQXO5w"
   },
   "source": [
    "We can do the same for maximum"
   ]
  },
  {
   "cell_type": "code",
   "execution_count": 31,
   "metadata": {
    "colab": {
     "base_uri": "https://localhost:8080/"
    },
    "id": "hZjsf8DwXRte",
    "outputId": "b5c1c6f8-4e5b-4744-810b-56d3625af597"
   },
   "outputs": [
    {
     "name": "stdout",
     "output_type": "stream",
     "text": [
      "[410, 110, 50, 30]\n",
      "Max value 410\n"
     ]
    }
   ],
   "source": [
    "max_val = 0 # initiliaze max value with a small number. If we give max val a value that is bigger than the maximum of the list our algorithm will not work\n",
    "\n",
    "print(a_list) #look at the list\n",
    "\n",
    "for i in range(0,len(a_list)): \n",
    "  if max_val < a_list[i]: # if our max_val is smaller than current value that means we found a bigger value\n",
    "    max_val = a_list[i] #since we found a bigger value than max_val we update our max_val value\n",
    "\n",
    "print(\"Max value\",max_val)"
   ]
  },
  {
   "cell_type": "markdown",
   "metadata": {
    "id": "fbyLRnFzXj71"
   },
   "source": [
    "Actually there are two function max() and min() to find maximum and minimum value of a list but now you know how to code these functions by yourself."
   ]
  },
  {
   "cell_type": "code",
   "execution_count": 32,
   "metadata": {
    "colab": {
     "base_uri": "https://localhost:8080/"
    },
    "id": "pbi8WGqeX0qW",
    "outputId": "d5b9750d-4984-4b90-8d7c-d6216387b656"
   },
   "outputs": [
    {
     "name": "stdout",
     "output_type": "stream",
     "text": [
      "Min value 30\n",
      "Max value 410\n"
     ]
    }
   ],
   "source": [
    "print(\"Min value\",min(a_list))\n",
    "print(\"Max value\",max(a_list))"
   ]
  },
  {
   "cell_type": "markdown",
   "metadata": {
    "id": "bPNbDRFlX7tH"
   },
   "source": [
    "Lets think of a scenario where we have a list and we want to check if the numbers in our list are divisible by two. For this we will loop over the list and check if each element is divisible by two. We will use modulo operator which is % in python. Module gives the remainder of division. As an example 3%2 is 1, 5 % 3 is 2, 4%2 is 0. So if the result of modulo (%) operation is 0 that means our number is divisible by the divider."
   ]
  },
  {
   "cell_type": "code",
   "execution_count": 35,
   "metadata": {
    "colab": {
     "base_uri": "https://localhost:8080/"
    },
    "id": "Dvj4jtMfgstu",
    "outputId": "996db675-2e78-4dad-e823-50d7e770e3b6"
   },
   "outputs": [
    {
     "name": "stdout",
     "output_type": "stream",
     "text": [
      "This number is divisible by 2:  2\n",
      "This number is divisible by 2:  4\n"
     ]
    }
   ],
   "source": [
    "a_list = [1,2,3,4,5]\n",
    "\n",
    "for i in range(0,len(a_list)):\n",
    "  if a_list[i] % 2 == 0:\n",
    "    print(\"This number is divisible by 2: \",a_list[i])\n"
   ]
  },
  {
   "cell_type": "markdown",
   "metadata": {
    "id": "bpBYzbt2h1BK"
   },
   "source": [
    "What if we also want to see numbers that are not divisible by 2? We can use another logical conditional expression that is called else."
   ]
  },
  {
   "cell_type": "code",
   "execution_count": 36,
   "metadata": {
    "colab": {
     "base_uri": "https://localhost:8080/"
    },
    "id": "1tuM7d6GiHxw",
    "outputId": "94ef8ead-9986-4397-a098-d7227279cd9b"
   },
   "outputs": [
    {
     "name": "stdout",
     "output_type": "stream",
     "text": [
      "This number is not divisible by 2:  1\n",
      "This number is divisible by 2:  2\n",
      "This number is not divisible by 2:  3\n",
      "This number is divisible by 2:  4\n",
      "This number is not divisible by 2:  5\n"
     ]
    }
   ],
   "source": [
    "a_list = [1,2,3,4,5]\n",
    "\n",
    "for i in range(0,len(a_list)):\n",
    "  if a_list[i] % 2 == 0:\n",
    "    print(\"This number is divisible by 2: \",a_list[i])\n",
    "  else: #if the condition above is not true we automatically come to else\n",
    "    print(\"This number is not divisible by 2: \",a_list[i])"
   ]
  },
  {
   "cell_type": "markdown",
   "metadata": {
    "id": "RQo-1KChjCzQ"
   },
   "source": [
    "Lets add another condition where we check if a number is negative. Now we will use elif (else if) which is another conditional. "
   ]
  },
  {
   "cell_type": "code",
   "execution_count": 39,
   "metadata": {
    "colab": {
     "base_uri": "https://localhost:8080/"
    },
    "id": "0K8IUtUhjSte",
    "outputId": "8a683355-1d79-4721-fef3-e023cb774491"
   },
   "outputs": [
    {
     "name": "stdout",
     "output_type": "stream",
     "text": [
      "This number is negative:  -2\n",
      "This number is negative:  -5\n",
      "This number is not divisible by 2:  1\n",
      "This number is divisible by 2:  2\n",
      "This number is not divisible by 2:  3\n",
      "This number is divisible by 2:  4\n",
      "This number is not divisible by 2:  5\n"
     ]
    }
   ],
   "source": [
    "a_list = [-2,-5,1,2,3,4,5]\n",
    "\n",
    "for i in range(0,len(a_list)):\n",
    "  if a_list[i] < 0:\n",
    "    print(\"This number is negative: \",a_list[i])\n",
    "  elif a_list[i] % 2 == 0: #if the number is not negative we can check it is divisible by two\n",
    "    print(\"This number is divisible by 2: \",a_list[i])\n",
    "  else: #if all the conditions above is not true we automatically come to else\n",
    "    print(\"This number is not divisible by 2: \",a_list[i])"
   ]
  },
  {
   "cell_type": "markdown",
   "metadata": {
    "id": "sYcrLdROj82l"
   },
   "source": [
    "We have seen a lot of things by now. But there is more. We can use codes which are written by other programmers. This saves our time since we don't have to code everything from scratch. To access codes written by other people we will use libraries."
   ]
  },
  {
   "cell_type": "code",
   "execution_count": 41,
   "metadata": {
    "id": "2uwEf_W8klz_"
   },
   "outputs": [],
   "source": [
    "import matplotlib.pyplot as plt"
   ]
  },
  {
   "cell_type": "markdown",
   "metadata": {
    "id": "7k7xtOmLlC34"
   },
   "source": [
    "Here we load a library called matplotlib. We actually select a part of it and rename it as plt. We rename it to make the name shorter. So it is actually optional. Also you don't have to name it as plt. You can even give your name but it is commonly named as plt. Matplotlib is a library used for plotting. Lets look at an example."
   ]
  },
  {
   "cell_type": "code",
   "execution_count": 44,
   "metadata": {
    "colab": {
     "base_uri": "https://localhost:8080/",
     "height": 265
    },
    "id": "a4qa47wulZAi",
    "outputId": "a89d041f-1ea9-49ad-f19e-ab25b786919e"
   },
   "outputs": [
    {
     "data": {
      "image/png": "[encoded data removed]",
      "text/plain": [
       "<Figure size 432x288 with 1 Axes>"
      ]
     },
     "metadata": {
      "needs_background": "light",
      "tags": []
     },
     "output_type": "display_data"
    }
   ],
   "source": [
    "x = [1,2,3,4,5,6]\n",
    "y = [2,4,6,8,10,12]\n",
    "\n",
    "plt.plot(x,y) # We will use plot method of plt. plot takes two lists and plots them, x values are x coordinates and y is y coordinates of the values\n",
    "plt.show() # show lets you output the plot\n"
   ]
  },
  {
   "cell_type": "markdown",
   "metadata": {
    "id": "Z5G5q2nxl5qG"
   },
   "source": [
    "Plot takes other arguments to let you change the plot settings"
   ]
  },
  {
   "cell_type": "code",
   "execution_count": 49,
   "metadata": {
    "colab": {
     "base_uri": "https://localhost:8080/",
     "height": 265
    },
    "id": "ICKALXyEl46M",
    "outputId": "f091d292-838d-4d5e-bedc-e9e8f012e762"
   },
   "outputs": [
    {
     "data": {
      "image/png": "[encoded data removed]",
      "text/plain": [
       "<Figure size 432x288 with 1 Axes>"
      ]
     },
     "metadata": {
      "needs_background": "light",
      "tags": []
     },
     "output_type": "display_data"
    }
   ],
   "source": [
    "plt.plot(x,y,\"r*\") # The last argument is optional. Now instead of a line we will see each point as a *. Also we make the color of these points as red (r).\n",
    "plt.show() # show lets you output the plot\n",
    "#Note: Try other colors and change the star shape by yourself. Just change the r and *. Some colors: blue (b), green (g), magenta (m). Some other shapes o,x"
   ]
  },
  {
   "cell_type": "markdown",
   "metadata": {
    "id": "B1ZPqp6cPKfb"
   },
   "source": [
    "Now lets check another commonly used library numpy. Numpy lets you use arrays. Arrays are like lists but a bit different. Numpy is commonly used in calculation. You can generate random arrays, calculate statistics of arrays and do much more."
   ]
  },
  {
   "cell_type": "code",
   "execution_count": 50,
   "metadata": {
    "colab": {
     "base_uri": "https://localhost:8080/"
    },
    "id": "zhj1NIZsoS9T",
    "outputId": "f4fe27ad-c004-4ae2-fb6f-f58e461930f5"
   },
   "outputs": [
    {
     "name": "stdout",
     "output_type": "stream",
     "text": [
      "1\n",
      "10\n",
      "5\n",
      "4\n"
     ]
    }
   ],
   "source": [
    "import numpy as np #we rename numpy as np\n",
    "\n",
    "an_array = np.array([1,10,5,4]) # we create an array like this\n",
    "\n",
    "#Similar to lists we can loop over arrays\n",
    "for i in range(0,len(an_array)):\n",
    "  print(an_array[i])"
   ]
  },
  {
   "cell_type": "markdown",
   "metadata": {
    "id": "pi_NcCn7owB9"
   },
   "source": [
    "We can also check lenght of arrays like lists! Also we can compute their mean, sum and find their max and min value."
   ]
  },
  {
   "cell_type": "code",
   "execution_count": 51,
   "metadata": {
    "colab": {
     "base_uri": "https://localhost:8080/"
    },
    "id": "koFs_G0TovUq",
    "outputId": "24dfa161-28dc-4d31-c852-581793c1ac91"
   },
   "outputs": [
    {
     "name": "stdout",
     "output_type": "stream",
     "text": [
      "Lenght of the array 4\n",
      "Max element 10\n",
      "Min element 1\n",
      "Mean value of array 5.0\n",
      "Sum of array 20\n"
     ]
    }
   ],
   "source": [
    "print(\"Lenght of the array\",len(an_array))\n",
    "print(\"Max element\",an_array.max())\n",
    "print(\"Min element\",an_array.min())\n",
    "print(\"Mean value of array\",an_array.mean())\n",
    "print(\"Sum of array\",an_array.sum())"
   ]
  },
  {
   "cell_type": "markdown",
   "metadata": {
    "id": "kUUNYAlyph43"
   },
   "source": [
    "Lets make a plot using numpy arrays."
   ]
  },
  {
   "cell_type": "code",
   "execution_count": 52,
   "metadata": {
    "colab": {
     "base_uri": "https://localhost:8080/",
     "height": 265
    },
    "id": "ANXFQR4tpmS3",
    "outputId": "c154c2b4-3efb-4069-caa7-ddab33acd40d"
   },
   "outputs": [
    {
     "data": {
      "image/png": "[encoded data removed]",
      "text/plain": [
       "<Figure size 432x288 with 1 Axes>"
      ]
     },
     "metadata": {
      "needs_background": "light",
      "tags": []
     },
     "output_type": "display_data"
    }
   ],
   "source": [
    "x = np.arange(0,10) # np.arange() creates an array starting from lowerbound upperbound \n",
    "y = np.arange(0,20,2) # we can also change the difference between two number in the array. So our array will be 0,2,4,6,8,....18\n",
    "\n",
    "plt.plot(x,y) # We will use plot method of plt. plot takes two lists and plots them, x values are x coordinates and y is y coordinates of the values\n",
    "plt.show() # show lets you output the plot\n"
   ]
  },
  {
   "cell_type": "markdown",
   "metadata": {
    "id": "9J7eqZSEqPvW"
   },
   "source": [
    "We can generate random numbers with numpy "
   ]
  },
  {
   "cell_type": "code",
   "execution_count": 54,
   "metadata": {
    "colab": {
     "base_uri": "https://localhost:8080/"
    },
    "id": "l-OUIORYqD80",
    "outputId": "bbe4742a-ed22-4854-94e1-09a82846bc18"
   },
   "outputs": [
    {
     "name": "stdout",
     "output_type": "stream",
     "text": [
      "[0.21864928 0.92641303 0.57138275 0.34629957 0.1391125  0.54917691\n",
      " 0.39014303 0.18111253 0.09964066 0.44191333]\n"
     ]
    }
   ],
   "source": [
    "x = np.random.rand(10) # generate 10 random numbers (this method generates number in range of 0-1 so there can't be values smaller than 0 or numbers bigger than 1)\n",
    "print(x)"
   ]
  },
  {
   "cell_type": "markdown",
   "metadata": {
    "id": "X0gT_pXHqwWe"
   },
   "source": [
    "Lets plot a random array"
   ]
  },
  {
   "cell_type": "code",
   "execution_count": 55,
   "metadata": {
    "colab": {
     "base_uri": "https://localhost:8080/",
     "height": 265
    },
    "id": "CMjG2kJHq04S",
    "outputId": "22247fbe-a1dd-4757-9083-10e6a6149f32"
   },
   "outputs": [
    {
     "data": {
      "image/png": "[encoded data removed]",
      "text/plain": [
       "<Figure size 432x288 with 1 Axes>"
      ]
     },
     "metadata": {
      "needs_background": "light",
      "tags": []
     },
     "output_type": "display_data"
    }
   ],
   "source": [
    "x = np.arange(10)\n",
    "y = np.random.rand(10)\n",
    "\n",
    "plt.plot(x,y)\n",
    "plt.show()\n"
   ]
  },
  {
   "cell_type": "markdown",
   "metadata": {
    "id": "UOrvOn57AZOK"
   },
   "source": []
  }
 ],
 "metadata": {
  "colab": {
   "collapsed_sections": [],
   "name": "intro_to_python.ipynb",
   "provenance": []
  },
  "kernelspec": {
   "display_name": "Python 3",
   "language": "python",
   "name": "python3"
  },
  "language_info": {
   "codemirror_mode": {
    "name": "ipython",
    "version": 3
   },
   "file_extension": ".py",
   "mimetype": "text/x-python",
   "name": "python",
   "nbconvert_exporter": "python",
   "pygments_lexer": "ipython3",
   "version": "3.7.10"
  }
 },
 "nbformat": 4,
 "nbformat_minor": 1
}
